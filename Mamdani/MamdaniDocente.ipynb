{
  "nbformat": 4,
  "nbformat_minor": 0,
  "metadata": {
    "colab": {
      "provenance": [],
      "authorship_tag": "ABX9TyMbig159CSJodK5mXURScoU"
    },
    "kernelspec": {
      "name": "python3",
      "display_name": "Python 3"
    },
    "language_info": {
      "name": "python"
    }
  },
  "cells": [
    {
      "cell_type": "markdown",
      "source": [
        "# **ACTIVIDAD 2b -Mamdani docente-**\n",
        "\n",
        "1. Un docente le solicita que automatice el proceso de puntuación de su materia. La materia consta de un único examen, puntuado entre 0 y 100, y además una nota de concepto con tres valores (regular, bueno, excelente). Diseñe un FIS Mamdani que permita modificar la nota final (1-10) combinando ambas variables de entrada.\n",
        "\n",
        "2. Recuerde que la nota de concepto sólo modula la nota del examen. Es decir, la nota del examen tiene más peso en el resultado final que el concepto. No obstante, la nota de concepto debe influir en la puntuación final.\n",
        "\n",
        "3. Explicite las reglas que ha elegido para esta tarea, y dé ejemplos de valores de entrada y salida. Defina los valores máximos y mínimos posibles para cada variable."
      ],
      "metadata": {
        "id": "JDH52ddtN053"
      }
    },
    {
      "cell_type": "code",
      "source": [
        "import numpy as np\n",
        "import skfuzzy as fuzz\n",
        "from skfuzzy import control as ctrl\n",
        "\n",
        "# Definir las variables de entrada y salida\n",
        "nota_examen = ctrl.Antecedent(np.arange(0, 101, 1), 'nota_examen')\n",
        "nota_concepto = ctrl.Antecedent(np.arange(0, 3, 1), 'nota_concepto')\n",
        "nota_final = ctrl.Consequent(np.arange(0, 11, 0.1), 'nota_final')  # Rango hasta 11\n",
        "\n",
        "# Definir los conjuntos difusos para cada variable\n",
        "nota_examen['muy_baja'] = fuzz.trimf(nota_examen.universe, [0, 0, 20])\n",
        "nota_examen['baja'] = fuzz.trimf(nota_examen.universe, [15, 30, 45])\n",
        "nota_examen['media_baja'] = fuzz.trimf(nota_examen.universe, [40, 50, 60])\n",
        "nota_examen['media_alta'] = fuzz.trimf(nota_examen.universe, [55, 70, 85])\n",
        "nota_examen['alta'] = fuzz.trimf(nota_examen.universe, [75, 85, 95])\n",
        "nota_examen['muy_alta'] = fuzz.trimf(nota_examen.universe, [90, 100, 100])\n",
        "\n",
        "nota_concepto['regular'] = fuzz.trimf(nota_concepto.universe,  [0, 0, 1])\n",
        "nota_concepto['bueno'] = fuzz.trimf(nota_concepto.universe, [0, 1, 2])\n",
        "nota_concepto['excelente'] = fuzz.trimf(nota_concepto.universe,  [1, 2, 2])\n",
        "\n",
        "# Redefinimos los conjuntos para la nota final con más valores intermedios\n",
        "nota_final['muy_baja'] = fuzz.trimf(nota_final.universe, [1, 2, 3])\n",
        "nota_final['baja'] = fuzz.trimf(nota_final.universe, [3, 4, 5])\n",
        "nota_final['media_baja'] = fuzz.trimf(nota_final.universe, [5, 6, 7])\n",
        "nota_final['media'] = fuzz.trimf(nota_final.universe, [6, 7, 8])\n",
        "nota_final['media_alta'] = fuzz.trimf(nota_final.universe, [7, 8, 9])\n",
        "nota_final['alta'] = fuzz.trimf(nota_final.universe, [8, 9, 10])\n",
        "nota_final['excelente'] = fuzz.trimf(nota_final.universe, [9, 10, 11])\n",
        "\n",
        "# Definir las reglas ajustadas para menor influencia del concepto\n",
        "reglas = [\n",
        "    # Nota muy alta\n",
        "    ctrl.Rule(nota_examen['muy_alta'] & nota_concepto['excelente'], nota_final['excelente']),\n",
        "    ctrl.Rule(nota_examen['muy_alta'] & nota_concepto['bueno'], nota_final['excelente']),\n",
        "    ctrl.Rule(nota_examen['muy_alta'] & nota_concepto['regular'], nota_final['alta']),\n",
        "    # Nota alta\n",
        "    ctrl.Rule(nota_examen['alta'] & nota_concepto['excelente'], nota_final['alta']),\n",
        "    ctrl.Rule(nota_examen['alta'] & nota_concepto['bueno'], nota_final['alta']),\n",
        "    ctrl.Rule(nota_examen['alta'] & nota_concepto['regular'], nota_final['alta']),\n",
        "    # Nota media alta\n",
        "    ctrl.Rule(nota_examen['media_alta'] & nota_concepto['excelente'], nota_final['alta']),\n",
        "    ctrl.Rule(nota_examen['media_alta'] & nota_concepto['bueno'], nota_final['media_alta']),\n",
        "    ctrl.Rule(nota_examen['media_alta'] & nota_concepto['regular'], nota_final['media']),\n",
        "\n",
        "    # Nota media baja\n",
        "    ctrl.Rule(nota_examen['media_baja'] & nota_concepto['excelente'], nota_final['media']),\n",
        "    ctrl.Rule(nota_examen['media_baja'] & nota_concepto['bueno'], nota_final['media_baja']),\n",
        "    ctrl.Rule(nota_examen['media_baja'] & nota_concepto['regular'], nota_final['baja']),\n",
        "    # Nota baja\n",
        "\n",
        "    ctrl.Rule(nota_examen['baja'] & nota_concepto['excelente'], nota_final['baja']),\n",
        "    ctrl.Rule(nota_examen['baja'] & nota_concepto['bueno'], nota_final['baja']),\n",
        "    ctrl.Rule(nota_examen['baja'] & nota_concepto['regular'], nota_final['baja']),\n",
        "    # Nota muy baja\n",
        "    ctrl.Rule(nota_examen['muy_baja'] & nota_concepto['excelente'], nota_final['baja']),\n",
        "    ctrl.Rule(nota_examen['muy_baja'] & nota_concepto['bueno'], nota_final['muy_baja']),\n",
        "    ctrl.Rule(nota_examen['muy_baja'] & nota_concepto['regular'], nota_final['muy_baja']),\n",
        "]\n",
        "\n",
        "# Crear el sistema de control\n",
        "sistema_control = ctrl.ControlSystem(reglas)\n",
        "simulador = ctrl.ControlSystemSimulation(sistema_control)\n",
        "\n",
        "def calcula_nota_final(nota_examen, nota_concepto):\n",
        "    simulador.input['nota_examen'] = nota_examen\n",
        "    simulador.input['nota_concepto'] = nota_concepto\n",
        "    simulador.compute()\n",
        "    nota_fuzzy = simulador.output['nota_final']\n",
        "    if (nota_concepto==0):\n",
        "      return (max(1, min(10, -nota_fuzzy*0.1+nota_examen*.09)))\n",
        "    else:\n",
        "      return (max(1, min(10, nota_fuzzy*0.15+nota_examen*.09)))\n",
        "\n",
        "# Ejemplos de cálculo\n",
        "print(f\"Nota final: {calcula_nota_final(0, 0):.2f}\")\n",
        "print(f\"Nota final: {calcula_nota_final(60,2):.2f}\")\n",
        "print(f\"Nota final: {calcula_nota_final(20,2):.2f}\")\n"
      ],
      "metadata": {
        "colab": {
          "base_uri": "https://localhost:8080/"
        },
        "id": "p-KCMBhmPqrJ",
        "outputId": "9181971b-4629-41d1-d178-1ecf03c6f3cc"
      },
      "execution_count": 78,
      "outputs": [
        {
          "output_type": "stream",
          "name": "stdout",
          "text": [
            "Nota final: 1.00\n",
            "Nota final: 6.75\n",
            "Nota final: 2.40\n"
          ]
        }
      ]
    }
  ]
}