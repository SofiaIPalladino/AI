{
  "nbformat": 4,
  "nbformat_minor": 0,
  "metadata": {
    "colab": {
      "provenance": [],
      "authorship_tag": "ABX9TyNL6jGo3T4tcYQlVskIcA63",
      "include_colab_link": true
    },
    "kernelspec": {
      "name": "python3",
      "display_name": "Python 3"
    },
    "language_info": {
      "name": "python"
    }
  },
  "cells": [
    {
      "cell_type": "markdown",
      "metadata": {
        "id": "view-in-github",
        "colab_type": "text"
      },
      "source": [
        "<a href=\"https://colab.research.google.com/github/SofiaIPalladino/AI/blob/main/Mamdani/Dise%C3%B1oSistemaDifuso.ipynb\" target=\"_parent\"><img src=\"https://colab.research.google.com/assets/colab-badge.svg\" alt=\"Open In Colab\"/></a>"
      ]
    },
    {
      "cell_type": "markdown",
      "source": [
        "Diseñar un Sistema Inteligente de Control de Tránsito para un cruce peatonal en una autopista.\n",
        "\n",
        "Puede considerar como variables de entrada el flujo del tránsito sobre la autopista (cantidad de autos por minuto) y la\n",
        "densidad de peatones que esperan en el cruce (peatones por metro cuadrado), o agregar las que considere importantes.\n",
        "Las salidas son los tiempos en que los semáforos se mantienen en luz verde o en luz roja.\n",
        "\n",
        "Establecer conjuntos difusos para\n",
        "las variables, determinar las reglas que controlarán el sistema. Observar y comentar los resultados obtenidos."
      ],
      "metadata": {
        "id": "MYBjHLyRT88H"
      }
    },
    {
      "cell_type": "markdown",
      "source": [
        "\n",
        "\n",
        "---\n",
        "\n",
        "\n",
        "\n",
        "Variables de entrada\n",
        "- Flujo del transito sobre la autopista (cantidad de autos por minuto)\n",
        "  - Alta : 40 - 90 (por min)\n",
        "  - Media : 15 - 50 (por min)\n",
        "  - Baja : 0 - 20 (por min)\n",
        "\n",
        "- Densidad de peatones que esperan en el cruce (peatones por metro cuadrado)\n",
        "  - Alta : 3 - 6\n",
        "  - Media : 2 - 4\n",
        "  - Baja : 0 - 3\n",
        "\n",
        "Variables de salida\n",
        "- Tiempos en que los semaforos se mantienen en luz verde o en luz roja\n",
        "  - Corto : 10 - 25 seg\n",
        "  - Medio : 20 - 60 seg\n",
        "  - Largo : 45 - 70 seg\n",
        "\n",
        "---\n",
        "\n",
        "Reglas de inferencias difusas\n",
        "\n",
        "- Regla 1: Si el Flujo de Tránsito es Bajo y la Densidad de Peatones es Alta, entonces el Tiempo en Luz Roja será Largo y el Tiempo en Luz Verde será Corto.\n",
        "\n",
        "- Regla 2: Si el Flujo de Tránsito es Bajo y la Densidad de Peatones es Baja, entonces el Tiempo en Luz Roja será Corto y el Tiempo en Luz Verde será Largo.\n",
        "\n",
        "- Regla 3: Si el Flujo de Tránsito es Medio y la Densidad de Peatones es Alta, entonces el Tiempo en Luz Roja será Medio y el Tiempo en Luz Verde será Medio.\n",
        "\n",
        "- Regla 4: Si el Flujo de Tránsito es Medio y la Densidad de Peatones es Baja, entonces el Tiempo en Luz Roja será Corto y el Tiempo en Luz Verde será Medio.\n",
        "\n",
        "- Regla 5: Si el Flujo de Tránsito es Alto y la Densidad de Peatones es Alta, entonces el Tiempo en Luz Roja será Medio y el Tiempo en Luz Verde será Largo.\n",
        "\n",
        "- Regla 6: Si el Flujo de Tránsito es Alto y la Densidad de Peatones es Baja, entonces el Tiempo en Luz Roja será Corto y el Tiempo en Luz Verde será Largo.\n",
        "\n",
        "\n",
        "\n",
        "---\n",
        "Observaciones\n",
        "Los escenarios con flujo de tránsito bajo y alta densidad de peatones resultarán en un mayor tiempo de cruce para los peatones (luz roja más larga para vehículos).\n",
        "Los escenarios con flujo de tránsito alto y baja densidad de peatones permitirán que los vehículos mantengan más tiempo la luz verde, priorizando el flujo de tránsito.\n"
      ],
      "metadata": {
        "id": "L-4uqN_NUEpX"
      }
    }
  ]
}