{
  "nbformat": 4,
  "nbformat_minor": 0,
  "metadata": {
    "colab": {
      "provenance": [],
      "authorship_tag": "ABX9TyPz1S+m8OXVaUztYnqrgXMa"
    },
    "kernelspec": {
      "name": "python3",
      "display_name": "Python 3"
    },
    "language_info": {
      "name": "python"
    }
  },
  "cells": [
    {
      "cell_type": "markdown",
      "source": [
        "**# 1. Un sistema de inferencia difuso con una sola entrada y una única salida se describe mediante las siguientes reglas:**\n",
        "  - SI 𝒙 ES pequeño ENTONCES 𝒚 es pequeño\n",
        "  - SI 𝒙 ES mediano ENTONCES 𝒚 es mediano\n",
        "  - SI 𝒙 ES grande ENTONCES 𝒚 es grande\n",
        "\n",
        "\n",
        "  **Las variables lingüísticas de la entrada se definen mediante funciones trapezoidales:**\n",
        "   - 𝜇𝑝𝑒𝑞𝑢𝑒ñ𝑜(𝑥) = 𝑡𝑟𝑎𝑝𝑚𝑓(𝑥,[−20, −15, −6, −3])\n",
        "   - 𝜇𝑚𝑒𝑑𝑖𝑎𝑛𝑜(𝑥) = 𝑡𝑟𝑎𝑝𝑚𝑓(𝑥,[−6, −3,3,6])\n",
        "   - 𝜇𝑔𝑟𝑎𝑛𝑑𝑒(𝑥) = 𝑡𝑟𝑎𝑝𝑚𝑓(𝑥,[3,6,15,20])\n",
        "\n",
        "**Las variables lingüísticas de la salida son:**\n",
        "  - 𝜇𝑝𝑒𝑞𝑢𝑒ñ𝑜(𝑦) = 𝑡𝑟𝑎𝑝𝑚𝑓(𝑦,[−2.46, −1.46,1.46,2.46])\n",
        "  - 𝜇𝑚𝑒𝑑𝑖𝑎𝑛𝑜(𝑦) = 𝑡𝑟𝑎𝑝𝑚𝑓(𝑦,[1.46,2.46,5,7])\n",
        "  - 𝜇𝑔𝑟𝑎𝑛𝑑𝑒(𝑦) = 𝑡𝑟𝑎𝑝𝑚𝑓(𝑦,[5,7,13,15])\n",
        "\n",
        "  Observar que entrada y salida se definen sobre universos diferentes.\n",
        "  Calcular por el método de centroide la salida a las entradas x = 8, -5, 5, 8"
      ],
      "metadata": {
        "id": "KOTes3fxD3bE"
      }
    },
    {
      "cell_type": "markdown",
      "source": [
        "\n",
        "Para calcular la salida del sistema de inferencia difuso mediante el método del centroide, seguimos estos pasos:\n",
        "\n",
        "1. Calculo el grado de pertenencia de la entrada a cada una de las variables lingüísticas de la entrada.\n",
        "2. Calcular el valor de salida para cada regla\n",
        "3. Calcular el centroide de cada salida junto con su grado de pertenencia\n",
        "4. Calculo la salida final, el centroide final\n"
      ],
      "metadata": {
        "id": "eJQgv776FySK"
      }
    },
    {
      "cell_type": "code",
      "source": [
        "def trapmf(x,abcd):\n",
        "  a,b,c,d = abcd\n",
        "  if x <= a:\n",
        "    return 0\n",
        "  elif a <= x <= b:\n",
        "    return (x-a)/(b-a)\n",
        "  elif b <= x <= c:\n",
        "    return 1\n",
        "  elif c <= x <=d:\n",
        "    return (d-x)/(d-c)\n",
        "  elif x >= d:\n",
        "    return 0\n",
        "\n",
        "trapmf(8,[3,6,15,20])\n"
      ],
      "metadata": {
        "colab": {
          "base_uri": "https://localhost:8080/"
        },
        "id": "JBYEUttzIeIw",
        "outputId": "9b31d5c6-a984-4be2-f49d-d826eda9982d"
      },
      "execution_count": 15,
      "outputs": [
        {
          "output_type": "execute_result",
          "data": {
            "text/plain": [
              "1"
            ]
          },
          "metadata": {},
          "execution_count": 15
        }
      ]
    },
    {
      "cell_type": "markdown",
      "source": [
        "*1*. Calculo el grado de pertenencia de la entrada a cada una de las variables lingüísticas de la entrada.\n",
        "\n",
        "Para x = -8\n",
        "\n",
        "- 𝜇𝑝𝑒𝑞𝑢𝑒ñ𝑜(-8) = 1\n",
        "- 𝜇𝑚𝑒𝑑𝑖𝑎𝑛𝑜(-8) = 0\n",
        "- 𝜇𝑔𝑟𝑎𝑛𝑑𝑒(-8) = 0\n",
        "\n",
        "Para x = -5\n",
        "\n",
        "- 𝜇𝑝𝑒𝑞𝑢𝑒ñ𝑜(-5) = 𝑡𝑟𝑎𝑝𝑚𝑓(-5,[−20, −15, −6, −3]) = (-3-(-5))/(-3-(-6)) = 0.6666666\n",
        "- 𝜇𝑚𝑒𝑑𝑖𝑎𝑛𝑜(-5) = 𝑡𝑟𝑎𝑝𝑚𝑓(-5,[−6, −3,3,6]) = 0.333333\n",
        "- 𝜇𝑔𝑟𝑎𝑛𝑑𝑒(-5) = 𝑡𝑟𝑎𝑝𝑚𝑓(-5,[3,6,15,20]) = 0 (el -5 queda fuera del intervalo\n",
        "\n",
        "Para x = 5\n",
        "\n",
        "- 𝜇𝑝𝑒𝑞𝑢𝑒ñ𝑜(5) = 𝑡𝑟𝑎𝑝𝑚𝑓(5,[−20, −15, −6, −3]) = 0\n",
        "- 𝜇𝑚𝑒𝑑𝑖𝑎𝑛𝑜(5) = 𝑡𝑟𝑎𝑝𝑚𝑓(5,[−6, −3,3,6]) = 0.333333\n",
        "- 𝜇𝑔𝑟𝑎𝑛𝑑𝑒(5) = 𝑡𝑟𝑎𝑝𝑚𝑓(5,[3,6,15,20]) = 0.666666\n",
        "\n",
        "Para x = 8\n",
        "\n",
        "- 𝜇𝑝𝑒𝑞𝑢𝑒ñ𝑜(8) = 𝑡𝑟𝑎𝑝𝑚𝑓(8,[−20, −15, −6, −3]) = 0\n",
        "- 𝜇𝑚𝑒𝑑𝑖𝑎𝑛𝑜(8) = 𝑡𝑟𝑎𝑝𝑚𝑓(8,[−6, −3,3,6]) = 0\n",
        "- 𝜇𝑔𝑟𝑎𝑛𝑑𝑒(8) = 𝑡𝑟𝑎𝑝𝑚𝑓(8,[3,6,15,20]) = 1\n",
        "\n",
        "--------------------------------------------------------------------------------\n",
        "\n",
        "*2*. Calcular el valor de salida para cada regla\n",
        "\n",
        "Para x = -8\n",
        "\n",
        "- SI x ES pequeño ENTONCES y es pequeño => μpequeño(8) * μpequeño(y) = 1 * μpequeño(y)\n",
        "- SI x ES mediano ENTONCES y es mediano => μmediano(8) * μmediano(y) = 0 * μmediano(y)\n",
        "- SI x ES grande ENTONCES y es grande => μgrande(8) * μgrande(y) = 0 * μgrande(y)\n",
        "\n",
        "\n",
        "Para x = -5\n",
        "\n",
        "- SI x ES pequeño ENTONCES y es pequeño => μpequeño(8) * μpequeño(y) = 0.66666 * μpequeño(y)\n",
        "- SI x ES mediano ENTONCES y es mediano => μmediano(8) * μmediano(y) = 0.33333 * μmediano(y)\n",
        "- SI x ES grande ENTONCES y es grande => μgrande(8) * μgrande(y) = 0 * μgrande(y)\n",
        "\n",
        "\n",
        "Para x = 5\n",
        "\n",
        "- SI x ES pequeño ENTONCES y es pequeño => μpequeño(8) * μpequeño(y) = 0 * μpequeño(y)\n",
        "- SI x ES mediano ENTONCES y es mediano => μmediano(8) * μmediano(y) = 0.33333 * μmediano(y)\n",
        "- SI x ES grande ENTONCES y es grande => μgrande(8) * μgrande(y) = 0.66666 * μgrande(y)\n",
        "\n",
        "Para x = 8\n",
        "\n",
        "- SI x ES pequeño ENTONCES y es pequeño => μpequeño(8) * μpequeño(y) = 1 * μpequeño(y)\n",
        "- SI x ES mediano ENTONCES y es mediano => μmediano(8) * μmediano(y) = 0 * μmediano(y)\n",
        "- SI x ES grande ENTONCES y es grande => μgrande(8) * μgrande(y) = 0 * μgrande(y)\n",
        "\n",
        "\n",
        "--------------------------------------------------------------------------------\n",
        "\n",
        "*3*. Calcular el centroide de cada salida\n",
        "\n",
        "Centroide = Suma de productos / Suma de grados de pertenecia\n",
        "\n",
        "X = -8\n",
        "\n",
        "μpequeño(y) = trapmf(y, [-2.46, -1.46, 1.46, 2.46]) = 1 * 0\n",
        "\n",
        "μmediano(y) = trapmf(y, [1.46, 2.46, 5, 7]) = 0 * 3.73\n",
        "\n",
        "μgrande(y) = trapmf(y, [5, 7, 13, 15]) = 0 * 10\n",
        "\n",
        "Centroide: (1 * 0 + 0 * 3.73 + 0 * 10) / 1 = 0\n",
        "\n",
        "\n",
        "X = -5\n",
        "\n",
        "μpequeño(y) = trapmf(y, [-2.46, -1.46, 1.46, 2.46]) = 0.66666 * 0\n",
        "\n",
        "μmediano(y) = trapmf(y, [1.46, 2.46, 5, 7]) = 0.333333 * 3.73\n",
        "\n",
        "μgrande(y) = trapmf(y, [5, 7, 13, 15]) = 0 * 10\n",
        "\n",
        "Centroide: (0.666666 * 0 + 0.333333 * 3.73 + 0 * 10) / (0.666666 + 0.333333) = 1.243322\n",
        "\n",
        "\n",
        "X = 5\n",
        "\n",
        "μpequeño(y) = trapmf(y, [-2.46, -1.46, 1.46, 2.46]) = 0 * 0\n",
        "\n",
        "μmediano(y) = trapmf(y, [1.46, 2.46, 5, 7]) = 0.333333 * 3.73\n",
        "\n",
        "μgrande(y) = trapmf(y, [5, 7, 13, 15]) = 0.666666 * 10\n",
        "\n",
        "Centroide: (0 * 0 + 0.333333 * 3.73 + 0.666666 * 10) / (0.3333333 + 0.66666) = 7.91\n",
        "\n",
        "X = 8\n",
        "\n",
        "μpequeño(y) = trapmf(y, [-2.46, -1.46, 1.46, 2.46]) = 0 * 0\n",
        "\n",
        "μmediano(y) = trapmf(y, [1.46, 2.46, 5, 7]) = 0 * 3.73\n",
        "\n",
        "μgrande(y) = trapmf(y, [5, 7, 13, 15]) = 1 * 10\n",
        "\n",
        "Centroide: (0 * 0 + 0 * 3.73 + 1 * 10) / 1 = 10\n",
        "\n",
        "-------------------------------------------------------------------------------\n",
        "\n",
        "4.Calculo la salida final\n",
        "\n",
        "Valor de salida final = (0 * 1 + 1.243322 * 0.666666 + 7.91 * 0.333333 + 10 * 1) / (1 + 0.666666 + 0.333333 + 1) = 4.4874\n",
        "\n"
      ],
      "metadata": {
        "id": "1TVZbjkEGk3w"
      }
    },
    {
      "cell_type": "markdown",
      "source": [
        "----------------------------------------------------------------------------------------------------------------"
      ],
      "metadata": {
        "id": "Tj7vc-KZt-L1"
      }
    }
  ]
}