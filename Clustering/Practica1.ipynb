{
  "nbformat": 4,
  "nbformat_minor": 0,
  "metadata": {
    "colab": {
      "provenance": [],
      "authorship_tag": "ABX9TyMoVopmZFm6bSzbn4IwYxmt"
    },
    "kernelspec": {
      "name": "python3",
      "display_name": "Python 3"
    },
    "language_info": {
      "name": "python"
    }
  },
  "cells": [
    {
      "cell_type": "markdown",
      "source": [
        "ACTIVIDAD 1\n",
        "\n",
        "Crear un conjunto de al menos 8 datos de dimensión 2 en los que se vean 2 grupos.\n",
        "\n",
        "Graficar los datos en un plano bidimensional.\n",
        "\n",
        "Implementar el algoritmo k-means para descubrir los 2 clusters (D=2, K=2).\n",
        "\n",
        "Almacenar los centros de cluster en una matriz (¿de qué dimensiones?) y ofrecer como resultado también a qué cluster pertenece cada dato en otra matriz (¿de qué dimensiones?).\n",
        "\n",
        "Graficar los datos con colores diferentes para cada cluster.\n",
        "\n",
        "Pensar cómo generalizaría (qué tendría que variar en la implementación) para considerar más dimensiones D en los datos y más clusters K."
      ],
      "metadata": {
        "id": "-lfrn3U_h9qY"
      }
    },
    {
      "cell_type": "code",
      "source": [
        "import numpy as np\n",
        "import matplotlib.pyplot as plt\n",
        "from sklearn.cluster import KMeans\n",
        "\n",
        "conjDatos=np.array([[1,2],[1.5,1.8],[5,8],[8,8],[1,0.6],[9,11],[8,2],[10,2]]) #crear un conjunto de al menos 8 datos de dimension 2 en los que se vean 2 grupos\n",
        "\n",
        "plt.scatter(conjDatos[:,0], conjDatos[:,1], s=50) #graficar los datos en un plano bidimensional\n",
        "plt.show()\n",
        "\n",
        "def k_means(conjDatos, K): #implementar el algoritmo k-means para descubrir los 2 clusters (D=2, K=2)\n",
        "  centroides=conjDatos[np.random.choice(conjDatos.shape[0], K, replace=False)] #Inicializo los centros de cluster\n",
        "  asignaciones=np.zeros(conjDatos.shape[0], dtype=int) #Asigno cada punto al cluster mas cercano\n",
        "\n",
        "  #Itero hasta que todos los datos esten asignados a su cluster mas cercano\n",
        "  cambio = True\n",
        "  while cambio:\n",
        "    cambio = False\n",
        "    for i in range(conjDatos.shape[0]):\n",
        "      distancias = np.linalg.norm(conjDatos[i] - centroides, axis=1)\n",
        "      nueva_asignacion = np.argmin(distancias)\n",
        "      if nueva_asignacion != asignaciones[i]:\n",
        "        cambio = True\n",
        "      asignaciones[i] = nueva_asignacion\n",
        "\n",
        "    # Actualizar los centros de cluster\n",
        "    for k in range(K):\n",
        "      centroides[k] = np.mean(conjDatos[asignaciones == k], axis=0)\n",
        "\n",
        "  return centroides, asignaciones\n",
        "\n",
        "\n",
        "# Obtener los clusters\n",
        "centroides, asignaciones = k_means(conjDatos, 2)\n",
        "\n",
        "# Imprimir los resultados\n",
        "print(\"Centroides (dimensiones: 2x2):\")\n",
        "print(centroides)\n",
        "print(\"\\nAsignaciones de cluster (dimensiones: 8x1):\")\n",
        "print(asignaciones)\n",
        "\n",
        "# Graficar los datos con los clusters\n",
        "plt.scatter(conjDatos[:,0], conjDatos[:,1], c=asignaciones, s=50)\n",
        "plt.scatter(centroides[:,0], centroides[:,1], marker='*', c='green', s=200)\n",
        "plt.show()\n",
        "\n",
        "#Pensar cómo generalizaría (qué tendría que variar en la implementación) para considerar más dimensiones D en los datos y más clusters K.\n",
        "#En la implementacion deberia variar las coordenadas de como se ingresa el dato, teniendo dicho dato una cordenada del mismo tamanio de la dimension D,\n",
        "#y cuando se quieran crear mas clusters al invocar el metodo k_means(conjDatos, K) se ingrese con K=cantidad de clusters.\n",
        "\n"
      ],
      "metadata": {
        "colab": {
          "base_uri": "https://localhost:8080/",
          "height": 947
        },
        "id": "Z5pWEy4tiDDH",
        "outputId": "d4369daf-223b-47db-b959-ba7363e4b93b"
      },
      "execution_count": null,
      "outputs": [
        {
          "output_type": "display_data",
          "data": {
            "text/plain": [
              "<Figure size 640x480 with 1 Axes>"
            ],
            "image/png": "[encoded data removed]"
          },
          "metadata": {}
        },
        {
          "output_type": "stream",
          "name": "stdout",
          "text": [
            "Centroides (dimensiones: 2x2):\n",
            "[[8.         6.2       ]\n",
            " [1.16666667 1.46666667]]\n",
            "\n",
            "Asignaciones de cluster (dimensiones: 8x1):\n",
            "[1 1 0 0 1 0 0 0]\n"
          ]
        },
        {
          "output_type": "display_data",
          "data": {
            "text/plain": [
              "<Figure size 640x480 with 1 Axes>"
            ],
            "image/png": "[encoded data removed]"
          },
          "metadata": {}
        }
      ]
    },
    {
      "cell_type": "code",
      "source": [
        "import numpy as np\n",
        "import pandas as pd\n",
        "from matplotlib import pyplot as plt\n",
        "from copy import deepcopy\n",
        "\n",
        "center_1=np.array([1,2])\n",
        "center_2=np.array([5,8])\n",
        "centers = [center_1, center_2]\n",
        "\n",
        "data=[]\n",
        "\n",
        "for i in range(8):\n",
        "  data.append(np.random.randn(1,2) + centers[i % 2])\n",
        "\n",
        "data=np.concatenate(data,axis=0)\n",
        "\n",
        "plt.scatter(data[:,0], data[:,1], s=10)\n",
        "\n",
        "k=2\n",
        "n=data.shape[0]\n",
        "c=data.shape[1]\n",
        "\n",
        "mean=np.mean(data, axis=0)\n",
        "std=np.std(data, axis=0)\n",
        "centers=np.random.randn(k,c)*std+mean\n",
        "\n",
        "centers_old = np.zeros(centers.shape)\n",
        "centers_new = deepcopy(centers)\n",
        "\n",
        "data.shape\n",
        "clusters = np.zeros(n)\n",
        "distances = np.zeros((n,k))\n",
        "\n",
        "error = np.linalg.norm(centers_new - centers_old)\n",
        "\n",
        "while error != 0:\n",
        "    for i in range(k):\n",
        "        distances[:,i] = np.linalg.norm(data - centers_new[i], axis=1)\n",
        "    clusters = np.argmin(distances, axis = 1)\n",
        "\n",
        "    centers_old = deepcopy(centers_new)\n",
        "    for i in range(k):\n",
        "        centers_new[i] = np.mean(data[clusters == i], axis=0)\n",
        "    error = np.linalg.norm(centers_new - centers_old)\n",
        "\n",
        "colors=['blue', 'red']\n",
        "for i in range(n):\n",
        "    plt.scatter(data[i, 0], data[i,1], s=7, color = colors[clusters[i]])\n",
        "plt.scatter(centers_new[:,0], centers_new[:,1], marker='*', c='g', s=150)\n",
        "\n",
        "\n",
        "print(\"Centroides (dimensiones: 2x2):\")\n",
        "print(centers_new)\n",
        "print(\"\\nAsignaciones de cluster (dimensiones: 8x1):\")\n",
        "print(clusters)\n"
      ],
      "metadata": {
        "colab": {
          "base_uri": "https://localhost:8080/",
          "height": 534
        },
        "id": "2_baWgo364mX",
        "outputId": "0ccbe6eb-fbef-4754-ab0a-8779b3ce732e"
      },
      "execution_count": null,
      "outputs": [
        {
          "output_type": "stream",
          "name": "stdout",
          "text": [
            "Centroides (dimensiones: 2x2):\n",
            "[[0.52259287 2.53007774]\n",
            " [5.1076057  8.0919732 ]]\n",
            "\n",
            "Asignaciones de cluster (dimensiones: 8x1):\n",
            "[0 1 0 1 0 1 0 1]\n"
          ]
        },
        {
          "output_type": "display_data",
          "data": {
            "text/plain": [
              "<Figure size 640x480 with 1 Axes>"
            ],
            "image/png": "[encoded data removed]"
          },
          "metadata": {}
        }
      ]
    },
    {
      "cell_type": "markdown",
      "source": [
        "ACTIVIDAD 2\n",
        "\n",
        "Estudiar una implementación de un algoritmo de clustering en alguna librería (por ejemplo, Scikit Learn).\n",
        "Cargar el conjunto de datos que se ofrece a continuación y graficarlo.\n",
        "Considerando 3 grupos, tomar solo el 20% de los datos para disminuir la cantidad, considerando los más representativos.\n",
        "Calcular la distancia intracluster del conjunto total de los datos y del conjunto reducido."
      ],
      "metadata": {
        "id": "ixsHXqH9oElh"
      }
    },
    {
      "cell_type": "code",
      "source": [
        "import numpy as np\n",
        "from sklearn.cluster import KMeans\n",
        "from sklearn.metrics import silhouette_samples\n",
        "import matplotlib.pyplot as plt\n",
        "\n",
        "# Cargar el conjunto de datos (reemplazar con la ruta al archivo real)\n",
        "data = np.loadtxt('DatosIACluster.txt')\n",
        "\n",
        "# Graficar el conjunto de datos\n",
        "plt.scatter(data[:, 0], data[:, 1], s=50)\n",
        "plt.title(\"Conjunto de Datos Original\")\n",
        "plt.show()\n",
        "\n",
        "# Considerando 3 grupos, tomar solo el 20% de los datos\n",
        "# para disminuir la cantidad, considerando los más representativos.\n",
        "\n",
        "# Aplicar k-means con 3 clusters al conjunto de datos completo\n",
        "kmeans = KMeans(n_clusters=3)\n",
        "kmeans.fit(data)\n",
        "\n",
        "# Obtener las etiquetas de cluster para cada punto de datos\n",
        "labels = kmeans.labels_\n",
        "\n",
        "# Calcular la puntuación de silueta para cada punto de datos\n",
        "silhouette_scores = silhouette_samples(data, labels)\n",
        "\n",
        "# Ordenar los puntos de datos por su puntuación de silueta\n",
        "indices_ordenados = np.argsort(silhouette_scores)[::-1]\n",
        "\n",
        "# Tomar el 20% de los datos con las puntuaciones de silueta más altas\n",
        "num_datos_reducidos = int(0.2 * data.shape[0])\n",
        "indices_reducidos = indices_ordenados[:num_datos_reducidos]\n",
        "data_reducido = data[indices_reducidos]\n",
        "\n",
        "# Graficar el conjunto de datos reducido\n",
        "plt.scatter(data_reducido[:, 0], data_reducido[:, 1], s=10)\n",
        "plt.title(\"Conjunto de Datos Reducido (20%)\")\n",
        "plt.show()\n",
        "\n",
        "# Calcular la distancia intracluster del conjunto total de los datos\n",
        "distancia_intracluster_total = kmeans.inertia_\n",
        "\n",
        "# Calcular la distancia intracluster del conjunto reducido de los datos\n",
        "kmeans_reducido = KMeans(n_clusters=3)\n",
        "kmeans_reducido.fit(data_reducido)\n",
        "distancia_intracluster_reducido = kmeans_reducido.inertia_\n",
        "\n",
        "# Imprimir las distancias intracluster\n",
        "print(\"Distancia intracluster del conjunto total:\", distancia_intracluster_total)\n",
        "print(\"Distancia intracluster del conjunto reducido:\", distancia_intracluster_reducido)"
      ],
      "metadata": {
        "colab": {
          "base_uri": "https://localhost:8080/",
          "height": 373
        },
        "id": "Rl4T8S6Lo73v",
        "outputId": "5bf8a5d5-e046-4157-80bf-1ef7bf3df343"
      },
      "execution_count": null,
      "outputs": [
        {
          "output_type": "error",
          "ename": "FileNotFoundError",
          "evalue": "DatosIACluster.txt not found.",
          "traceback": [
            "\u001b[0;31m---------------------------------------------------------------------------\u001b[0m",
            "\u001b[0;31mFileNotFoundError\u001b[0m                         Traceback (most recent call last)",
            "\u001b[0;32m<ipython-input-63-0f510df3ef8d>\u001b[0m in \u001b[0;36m<cell line: 7>\u001b[0;34m()\u001b[0m\n\u001b[1;32m      5\u001b[0m \u001b[0;34m\u001b[0m\u001b[0m\n\u001b[1;32m      6\u001b[0m \u001b[0;31m# Cargar el conjunto de datos (reemplazar con la ruta al archivo real)\u001b[0m\u001b[0;34m\u001b[0m\u001b[0;34m\u001b[0m\u001b[0m\n\u001b[0;32m----> 7\u001b[0;31m \u001b[0mdata\u001b[0m \u001b[0;34m=\u001b[0m \u001b[0mnp\u001b[0m\u001b[0;34m.\u001b[0m\u001b[0mloadtxt\u001b[0m\u001b[0;34m(\u001b[0m\u001b[0;34m'DatosIACluster.txt'\u001b[0m\u001b[0;34m)\u001b[0m\u001b[0;34m\u001b[0m\u001b[0;34m\u001b[0m\u001b[0m\n\u001b[0m\u001b[1;32m      8\u001b[0m \u001b[0;34m\u001b[0m\u001b[0m\n\u001b[1;32m      9\u001b[0m \u001b[0;31m# Graficar el conjunto de datos\u001b[0m\u001b[0;34m\u001b[0m\u001b[0;34m\u001b[0m\u001b[0m\n",
            "\u001b[0;32m/usr/local/lib/python3.10/dist-packages/numpy/lib/npyio.py\u001b[0m in \u001b[0;36mloadtxt\u001b[0;34m(fname, dtype, comments, delimiter, converters, skiprows, usecols, unpack, ndmin, encoding, max_rows, quotechar, like)\u001b[0m\n\u001b[1;32m   1371\u001b[0m         \u001b[0mdelimiter\u001b[0m \u001b[0;34m=\u001b[0m \u001b[0mdelimiter\u001b[0m\u001b[0;34m.\u001b[0m\u001b[0mdecode\u001b[0m\u001b[0;34m(\u001b[0m\u001b[0;34m'latin1'\u001b[0m\u001b[0;34m)\u001b[0m\u001b[0;34m\u001b[0m\u001b[0;34m\u001b[0m\u001b[0m\n\u001b[1;32m   1372\u001b[0m \u001b[0;34m\u001b[0m\u001b[0m\n\u001b[0;32m-> 1373\u001b[0;31m     arr = _read(fname, dtype=dtype, comment=comment, delimiter=delimiter,\n\u001b[0m\u001b[1;32m   1374\u001b[0m                 \u001b[0mconverters\u001b[0m\u001b[0;34m=\u001b[0m\u001b[0mconverters\u001b[0m\u001b[0;34m,\u001b[0m \u001b[0mskiplines\u001b[0m\u001b[0;34m=\u001b[0m\u001b[0mskiprows\u001b[0m\u001b[0;34m,\u001b[0m \u001b[0musecols\u001b[0m\u001b[0;34m=\u001b[0m\u001b[0musecols\u001b[0m\u001b[0;34m,\u001b[0m\u001b[0;34m\u001b[0m\u001b[0;34m\u001b[0m\u001b[0m\n\u001b[1;32m   1375\u001b[0m                 \u001b[0munpack\u001b[0m\u001b[0;34m=\u001b[0m\u001b[0munpack\u001b[0m\u001b[0;34m,\u001b[0m \u001b[0mndmin\u001b[0m\u001b[0;34m=\u001b[0m\u001b[0mndmin\u001b[0m\u001b[0;34m,\u001b[0m \u001b[0mencoding\u001b[0m\u001b[0;34m=\u001b[0m\u001b[0mencoding\u001b[0m\u001b[0;34m,\u001b[0m\u001b[0;34m\u001b[0m\u001b[0;34m\u001b[0m\u001b[0m\n",
            "\u001b[0;32m/usr/local/lib/python3.10/dist-packages/numpy/lib/npyio.py\u001b[0m in \u001b[0;36m_read\u001b[0;34m(fname, delimiter, comment, quote, imaginary_unit, usecols, skiplines, max_rows, converters, ndmin, unpack, dtype, encoding)\u001b[0m\n\u001b[1;32m    990\u001b[0m             \u001b[0mfname\u001b[0m \u001b[0;34m=\u001b[0m \u001b[0mos\u001b[0m\u001b[0;34m.\u001b[0m\u001b[0mfspath\u001b[0m\u001b[0;34m(\u001b[0m\u001b[0mfname\u001b[0m\u001b[0;34m)\u001b[0m\u001b[0;34m\u001b[0m\u001b[0;34m\u001b[0m\u001b[0m\n\u001b[1;32m    991\u001b[0m         \u001b[0;32mif\u001b[0m \u001b[0misinstance\u001b[0m\u001b[0;34m(\u001b[0m\u001b[0mfname\u001b[0m\u001b[0;34m,\u001b[0m \u001b[0mstr\u001b[0m\u001b[0;34m)\u001b[0m\u001b[0;34m:\u001b[0m\u001b[0;34m\u001b[0m\u001b[0;34m\u001b[0m\u001b[0m\n\u001b[0;32m--> 992\u001b[0;31m             \u001b[0mfh\u001b[0m \u001b[0;34m=\u001b[0m \u001b[0mnp\u001b[0m\u001b[0;34m.\u001b[0m\u001b[0mlib\u001b[0m\u001b[0;34m.\u001b[0m\u001b[0m_datasource\u001b[0m\u001b[0;34m.\u001b[0m\u001b[0mopen\u001b[0m\u001b[0;34m(\u001b[0m\u001b[0mfname\u001b[0m\u001b[0;34m,\u001b[0m \u001b[0;34m'rt'\u001b[0m\u001b[0;34m,\u001b[0m \u001b[0mencoding\u001b[0m\u001b[0;34m=\u001b[0m\u001b[0mencoding\u001b[0m\u001b[0;34m)\u001b[0m\u001b[0;34m\u001b[0m\u001b[0;34m\u001b[0m\u001b[0m\n\u001b[0m\u001b[1;32m    993\u001b[0m             \u001b[0;32mif\u001b[0m \u001b[0mencoding\u001b[0m \u001b[0;32mis\u001b[0m \u001b[0;32mNone\u001b[0m\u001b[0;34m:\u001b[0m\u001b[0;34m\u001b[0m\u001b[0;34m\u001b[0m\u001b[0m\n\u001b[1;32m    994\u001b[0m                 \u001b[0mencoding\u001b[0m \u001b[0;34m=\u001b[0m \u001b[0mgetattr\u001b[0m\u001b[0;34m(\u001b[0m\u001b[0mfh\u001b[0m\u001b[0;34m,\u001b[0m \u001b[0;34m'encoding'\u001b[0m\u001b[0;34m,\u001b[0m \u001b[0;34m'latin1'\u001b[0m\u001b[0;34m)\u001b[0m\u001b[0;34m\u001b[0m\u001b[0;34m\u001b[0m\u001b[0m\n",
            "\u001b[0;32m/usr/local/lib/python3.10/dist-packages/numpy/lib/_datasource.py\u001b[0m in \u001b[0;36mopen\u001b[0;34m(path, mode, destpath, encoding, newline)\u001b[0m\n\u001b[1;32m    191\u001b[0m \u001b[0;34m\u001b[0m\u001b[0m\n\u001b[1;32m    192\u001b[0m     \u001b[0mds\u001b[0m \u001b[0;34m=\u001b[0m \u001b[0mDataSource\u001b[0m\u001b[0;34m(\u001b[0m\u001b[0mdestpath\u001b[0m\u001b[0;34m)\u001b[0m\u001b[0;34m\u001b[0m\u001b[0;34m\u001b[0m\u001b[0m\n\u001b[0;32m--> 193\u001b[0;31m     \u001b[0;32mreturn\u001b[0m \u001b[0mds\u001b[0m\u001b[0;34m.\u001b[0m\u001b[0mopen\u001b[0m\u001b[0;34m(\u001b[0m\u001b[0mpath\u001b[0m\u001b[0;34m,\u001b[0m \u001b[0mmode\u001b[0m\u001b[0;34m,\u001b[0m \u001b[0mencoding\u001b[0m\u001b[0;34m=\u001b[0m\u001b[0mencoding\u001b[0m\u001b[0;34m,\u001b[0m \u001b[0mnewline\u001b[0m\u001b[0;34m=\u001b[0m\u001b[0mnewline\u001b[0m\u001b[0;34m)\u001b[0m\u001b[0;34m\u001b[0m\u001b[0;34m\u001b[0m\u001b[0m\n\u001b[0m\u001b[1;32m    194\u001b[0m \u001b[0;34m\u001b[0m\u001b[0m\n\u001b[1;32m    195\u001b[0m \u001b[0;34m\u001b[0m\u001b[0m\n",
            "\u001b[0;32m/usr/local/lib/python3.10/dist-packages/numpy/lib/_datasource.py\u001b[0m in \u001b[0;36mopen\u001b[0;34m(self, path, mode, encoding, newline)\u001b[0m\n\u001b[1;32m    531\u001b[0m                                       encoding=encoding, newline=newline)\n\u001b[1;32m    532\u001b[0m         \u001b[0;32melse\u001b[0m\u001b[0;34m:\u001b[0m\u001b[0;34m\u001b[0m\u001b[0;34m\u001b[0m\u001b[0m\n\u001b[0;32m--> 533\u001b[0;31m             \u001b[0;32mraise\u001b[0m \u001b[0mFileNotFoundError\u001b[0m\u001b[0;34m(\u001b[0m\u001b[0;34mf\"{path} not found.\"\u001b[0m\u001b[0;34m)\u001b[0m\u001b[0;34m\u001b[0m\u001b[0;34m\u001b[0m\u001b[0m\n\u001b[0m\u001b[1;32m    534\u001b[0m \u001b[0;34m\u001b[0m\u001b[0m\n\u001b[1;32m    535\u001b[0m \u001b[0;34m\u001b[0m\u001b[0m\n",
            "\u001b[0;31mFileNotFoundError\u001b[0m: DatosIACluster.txt not found."
          ]
        }
      ]
    }
  ]
}